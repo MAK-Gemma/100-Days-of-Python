{
 "cells": [
  {
   "cell_type": "markdown",
   "id": "63c06d1d",
   "metadata": {},
   "source": [
    "# 100 Days Python Challenge"
   ]
  },
  {
   "cell_type": "markdown",
   "id": "2ba00d50",
   "metadata": {},
   "source": [
    "## #Day 2"
   ]
  },
  {
   "cell_type": "markdown",
   "id": "d77b76aa",
   "metadata": {},
   "source": [
    "### Write a Code that request for 2 digits number and print the sum of the 2 Numbers"
   ]
  },
  {
   "cell_type": "code",
   "execution_count": 3,
   "id": "77adfe08",
   "metadata": {},
   "outputs": [
    {
     "name": "stdout",
     "output_type": "stream",
     "text": [
      "Enter a Random 2 digits number: 67\n",
      "The Sum of the 2 digits is 13\n"
     ]
    }
   ],
   "source": [
    "#Input the number\n",
    "\n",
    "num = input('Enter a Random 2 digits number: ')\n",
    "#lnum =str(num)\n",
    "x1 = int(num[0])\n",
    "x2 = int(num[1])\n",
    "\n",
    "X_final = x1 + x2\n",
    "print(f'The Sum of the 2 digits is {X_final}')"
   ]
  },
  {
   "cell_type": "markdown",
   "id": "bb8de0f2",
   "metadata": {},
   "source": [
    "## BMI Calculator"
   ]
  },
  {
   "cell_type": "code",
   "execution_count": 9,
   "id": "e8755865",
   "metadata": {},
   "outputs": [
    {
     "name": "stdout",
     "output_type": "stream",
     "text": [
      "Enter your Height in meters: 1.85\n",
      "Enter your Weight in kg: 102\n",
      "The BMI calculated is 30\n"
     ]
    }
   ],
   "source": [
    "# BMI is calculated from dividing the body weight by the height-squared (all in metrics)\n",
    "\n",
    "#1. First get the hight in meters (m)\n",
    "height = input('Enter your Height in meters: ')\n",
    "\n",
    "#2. Get the body weight in kilograms (kg)\n",
    "weight = input('Enter your Weight in kg: ')\n",
    "\n",
    "#Input statement makes the variable a string and needs to be convverted to a numerica data type for mathematical operation\n",
    "BMI = round(float(weight) / (float(height)*float(height)))\n",
    "\n",
    "print(f'The BMI calculated is {BMI}')"
   ]
  },
  {
   "cell_type": "markdown",
   "id": "226063a6",
   "metadata": {},
   "source": [
    "### Life in Weeks"
   ]
  },
  {
   "cell_type": "code",
   "execution_count": 41,
   "id": "0ddcdafa",
   "metadata": {},
   "outputs": [
    {
     "name": "stdout",
     "output_type": "stream",
     "text": [
      "How old are you? 15\n",
      " You have 3900 Weeks left.\n"
     ]
    }
   ],
   "source": [
    "#Create a program that generate the amount of weeks left for a 15 year old with extimated 90 years life time\n",
    "\n",
    "age = input('How old are you? ')\n",
    "\n",
    "#Convert the age to integer\n",
    "age=int(age)\n",
    "\n",
    "bal = 90 - age\n",
    "\n",
    "bal_w = bal * 52\n",
    "\n",
    "print (f' You have {bal_w} Weeks left.')"
   ]
  },
  {
   "cell_type": "code",
   "execution_count": 53,
   "id": "34416cd3",
   "metadata": {},
   "outputs": [
    {
     "name": "stdout",
     "output_type": "stream",
     "text": [
      "Enter Your Date of Birth (Year/Month/Day): 2000/12/25\n",
      " You have 3479 Weeks left.\n"
     ]
    }
   ],
   "source": [
    "import pandas as pd\n",
    "import datetime\n",
    "\n",
    "#Calculating the amount of weeks left based on the Date of birth and a lifespan of 90 years\n",
    "\n",
    "Dob = input('Enter Your Date of Birth (Year/Month/Day): ')\n",
    "Dob=pd.to_datetime(Dob)\n",
    "\n",
    "#Estimating the current age in weeks\n",
    "age = datetime.datetime.now() - Dob\n",
    "age=age.days\n",
    "\n",
    "#Age in Weeks\n",
    "age_w = age/7\n",
    "\n",
    "#Amount left based on 90 years (4680 weeks)\n",
    "week_l = round(4680 - age_w)\n",
    "\n",
    "#Print the Output\n",
    "print(f' You have {week_l} Weeks left.')"
   ]
  },
  {
   "cell_type": "markdown",
   "id": "06a4df87",
   "metadata": {},
   "source": [
    "### Tip Calculator"
   ]
  },
  {
   "cell_type": "code",
   "execution_count": 56,
   "id": "3417d3a8",
   "metadata": {},
   "outputs": [
    {
     "name": "stdout",
     "output_type": "stream",
     "text": [
      "Welcome to the tip Calculation page\n",
      "Enter the total bill? 564\n",
      "What percentage of tip would you like to give (10 / 12 / 15) 12\n",
      "How many people will be spliting the bill 4\n",
      "Each Person should pay: $157.92\n"
     ]
    }
   ],
   "source": [
    "#Write a program to calculate tips as a percentage of total bill and split among friends.\n",
    "\n",
    "#1. A welcome statement\n",
    "#2. Estimating or Inputing the total bill\n",
    "#3. Requesting the percentage of tips to apply (10, 12, or 15)?\n",
    "#4. Request the number of people to be responsible for it?\n",
    "#5. Return the amount to be paid by each person.\n",
    "\n",
    "#The Welcome statement\n",
    "print('Welcome to the tip Calculation page')\n",
    "\n",
    "#Estimate or input the total bill\n",
    "bill = input('Enter the total bill? ')\n",
    "bill = float(bill)\n",
    "\n",
    "#Request the percentage for tip\n",
    "tip = input ('What percentage of tip would you like to give (10 / 12 / 15) ')\n",
    "tip = float(tip)\n",
    "\n",
    "#Request the number of people spliting\n",
    "split = input('How many people will be spliting the bill ')\n",
    "split = float(split)\n",
    "\n",
    "#Calculate the tip amount\n",
    "amount = (bill + (bill * (tip/100)))/split\n",
    "\n",
    "#Print the amount for tip\n",
    "print (f'Each Person should pay: ${amount}')"
   ]
  },
  {
   "cell_type": "code",
   "execution_count": null,
   "id": "9bf4368c",
   "metadata": {},
   "outputs": [],
   "source": []
  }
 ],
 "metadata": {
  "kernelspec": {
   "display_name": "Python 3 (ipykernel)",
   "language": "python",
   "name": "python3"
  },
  "language_info": {
   "codemirror_mode": {
    "name": "ipython",
    "version": 3
   },
   "file_extension": ".py",
   "mimetype": "text/x-python",
   "name": "python",
   "nbconvert_exporter": "python",
   "pygments_lexer": "ipython3",
   "version": "3.11.3"
  }
 },
 "nbformat": 4,
 "nbformat_minor": 5
}
