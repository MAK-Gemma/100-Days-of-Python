{
 "cells": [
  {
   "cell_type": "markdown",
   "id": "e893f8c5",
   "metadata": {},
   "source": [
    "# 100 Days Python Challenge"
   ]
  },
  {
   "cell_type": "markdown",
   "id": "1d0e52a1",
   "metadata": {},
   "source": [
    "## 🚀 Day 1 of #100DaysOfCode in Python! 🐍"
   ]
  },
  {
   "cell_type": "markdown",
   "id": "b505411c",
   "metadata": {},
   "source": [
    "### Today's focus: Working with variables to master data management in Python! 💻\n",
    "\n",
    "\n",
    "\n",
    "💪Challenge: Create a program that Takes User input for City and Pet to generate a Band Name.🚀\n"
   ]
  },
  {
   "cell_type": "code",
   "execution_count": 7,
   "id": "ca39cdc4",
   "metadata": {},
   "outputs": [
    {
     "name": "stdout",
     "output_type": "stream",
     "text": [
      "Welcome to the Band Name Generator\n",
      "Which city did you grow up in? \n",
      "Bradford\n",
      "What is the name of your first pet? \n",
      "Gary\n",
      "Your band name could be Bradford Gary\n"
     ]
    }
   ],
   "source": [
    "#Make sure the input cursor shows on a new line\n",
    "\n",
    "#1. Create a greating/welcoming note for the prompt\n",
    "print('Welcome to the Band Name Generator')\n",
    "\n",
    "#2. Ask the user for the city that they grew up in.\n",
    "city = input('Which city did you grow up in? \\n')\n",
    "\n",
    "#3. Ask the user for the name of a pet\n",
    "pet = input('What is the name of your first pet? \\n')\n",
    "\n",
    "#4. Combine the name of their city and pet as their band name\n",
    "print('Your band name could be ' + city + ' ' + pet)"
   ]
  },
  {
   "cell_type": "code",
   "execution_count": null,
   "id": "53604cbe",
   "metadata": {},
   "outputs": [],
   "source": []
  }
 ],
 "metadata": {
  "kernelspec": {
   "display_name": "Python 3 (ipykernel)",
   "language": "python",
   "name": "python3"
  },
  "language_info": {
   "codemirror_mode": {
    "name": "ipython",
    "version": 3
   },
   "file_extension": ".py",
   "mimetype": "text/x-python",
   "name": "python",
   "nbconvert_exporter": "python",
   "pygments_lexer": "ipython3",
   "version": "3.11.3"
  }
 },
 "nbformat": 4,
 "nbformat_minor": 5
}
