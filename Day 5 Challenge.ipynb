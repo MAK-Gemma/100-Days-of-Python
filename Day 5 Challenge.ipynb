{
 "cells": [
  {
   "cell_type": "markdown",
   "id": "e5e766f2",
   "metadata": {},
   "source": [
    "# 100 Days Python Challenge"
   ]
  },
  {
   "cell_type": "markdown",
   "id": "84633525",
   "metadata": {},
   "source": [
    "## 🚀 Day 5 of #100DaysOfCode in Python! 🐍💻\n",
    "\n",
    "\n",
    "### Today's focus: Unleashing the power of Python loops to create robust passwords! 🔐💪\n",
    "\n",
    "#### 💡 Activity: Crafting a password generator that combines loops, randomization, and string manipulation for ultimate security. 🌐🔒\n",
    "\n",
    "#### Challenge: Build your own password generator and share your creative solutions! 💻✨\n"
   ]
  },
  {
   "cell_type": "markdown",
   "id": "0c2040a7",
   "metadata": {},
   "source": [
    "##### Warming up the for loop"
   ]
  },
  {
   "cell_type": "code",
   "execution_count": 1,
   "id": "9aa31cb0",
   "metadata": {},
   "outputs": [
    {
     "name": "stdout",
     "output_type": "stream",
     "text": [
      "apple\n",
      "apple Pie\n",
      "banana\n",
      "banana Pie\n",
      "cherry\n",
      "cherry Pie\n",
      "['apple', 'banana', 'cherry']\n"
     ]
    }
   ],
   "source": [
    "fruits = [\"apple\", \"banana\", \"cherry\"]\n",
    "for fruit in fruits:\n",
    "  print(fruit)\n",
    "  print(fruit + \" Pie\" )\n",
    "\n",
    "print(fruits)"
   ]
  },
  {
   "cell_type": "markdown",
   "id": "af4f080f",
   "metadata": {},
   "source": [
    "#### Warming up the for loop to Calculate Average without using the len() and sum() functions"
   ]
  },
  {
   "cell_type": "code",
   "execution_count": 3,
   "id": "bd9bba28",
   "metadata": {},
   "outputs": [
    {
     "name": "stdout",
     "output_type": "stream",
     "text": [
      "170 187 158 176 168\n",
      "total height = 859\n",
      "number of students = 5\n",
      "average height = 172\n"
     ]
    }
   ],
   "source": [
    "# Input a Python list of student heights\n",
    "student_heights = input().split()\n",
    "for n in range(0, len(student_heights)):\n",
    "  student_heights[n] = int(student_heights[n])\n",
    "# 🚨 Don't change the code above 👆\n",
    "  \n",
    "# Write your code below this row 👇\n",
    "total = 0\n",
    "length = 0\n",
    "for x in range(0, len(student_heights)):\n",
    "  total += 1\n",
    "  length += student_heights[x]\n",
    "\n",
    "average = round(length / total)\n",
    "\n",
    "print(f'total height = {length}')\n",
    "print(f'number of students = {total}')\n",
    "print(f'average height = {average}')"
   ]
  },
  {
   "cell_type": "markdown",
   "id": "be84176a",
   "metadata": {},
   "source": [
    "#### Using for loop to get the highest score in a class without using the max() function"
   ]
  },
  {
   "cell_type": "code",
   "execution_count": 4,
   "id": "ac5fde80",
   "metadata": {},
   "outputs": [
    {
     "name": "stdout",
     "output_type": "stream",
     "text": [
      "92 45 67 98 96 57 87 98 25 76 84 56 74 67\n",
      "The highest score in the class is: 98\n"
     ]
    }
   ],
   "source": [
    "# Input a list of student scores\n",
    "student_scores = input().split()\n",
    "for n in range(0, len(student_scores)):\n",
    "  student_scores[n] = int(student_scores[n])\n",
    "\n",
    "# Write your code below this row 👇\n",
    "high = 0\n",
    "for score in student_scores:\n",
    "  if score >= high:\n",
    "    high = score\n",
    "\n",
    "print(f'The highest score in the class is: {high}')"
   ]
  },
  {
   "cell_type": "markdown",
   "id": "c5cb6038",
   "metadata": {},
   "source": [
    "#### Calculating the sum of even number from 0 to a number less than 1000"
   ]
  },
  {
   "cell_type": "code",
   "execution_count": 6,
   "id": "0d850b6f",
   "metadata": {},
   "outputs": [
    {
     "name": "stdout",
     "output_type": "stream",
     "text": [
      "678\n",
      "115260\n"
     ]
    }
   ],
   "source": [
    "target = int(input()) # Enter a number between 0 and 1000\n",
    "# 🚨 Do not change the code above ☝️\n",
    "\n",
    "# Write your code here 👇\n",
    "total = 0\n",
    "for number in range(2, target + 1, 2):\n",
    "  total += number\n",
    "\n",
    "print(total)\n"
   ]
  },
  {
   "cell_type": "code",
   "execution_count": 5,
   "id": "6cdb8ae7",
   "metadata": {},
   "outputs": [
    {
     "name": "stdout",
     "output_type": "stream",
     "text": [
      "2450\n"
     ]
    }
   ],
   "source": [
    "# Calculating sum of even number from 1 to 100 including but numbers\n",
    "\n",
    "total = 0\n",
    "for number in range(1, 100):\n",
    "    if number % 2 == 0:\n",
    "        total += number\n",
    "\n",
    "print(total)\n"
   ]
  },
  {
   "cell_type": "code",
   "execution_count": 8,
   "id": "27256a2f",
   "metadata": {},
   "outputs": [
    {
     "name": "stdout",
     "output_type": "stream",
     "text": [
      "1\n",
      "2\n",
      "Fizz\n",
      "4\n",
      "Buzz\n",
      "Fizz\n",
      "7\n",
      "8\n",
      "Fizz\n",
      "Buzz\n",
      "11\n",
      "Fizz\n",
      "13\n",
      "14\n",
      "FizzBuzz\n",
      "16\n",
      "17\n",
      "Fizz\n",
      "19\n",
      "Buzz\n",
      "Fizz\n",
      "22\n",
      "23\n",
      "Fizz\n",
      "Buzz\n",
      "26\n",
      "Fizz\n",
      "28\n",
      "29\n",
      "FizzBuzz\n",
      "31\n",
      "32\n",
      "Fizz\n",
      "34\n",
      "Buzz\n",
      "Fizz\n",
      "37\n",
      "38\n",
      "Fizz\n",
      "Buzz\n",
      "41\n",
      "Fizz\n",
      "43\n",
      "44\n",
      "FizzBuzz\n",
      "46\n",
      "47\n",
      "Fizz\n",
      "49\n",
      "Buzz\n",
      "Fizz\n",
      "52\n",
      "53\n",
      "Fizz\n",
      "Buzz\n",
      "56\n",
      "Fizz\n",
      "58\n",
      "59\n",
      "FizzBuzz\n",
      "61\n",
      "62\n",
      "Fizz\n",
      "64\n",
      "Buzz\n",
      "Fizz\n",
      "67\n",
      "68\n",
      "Fizz\n",
      "Buzz\n",
      "71\n",
      "Fizz\n",
      "73\n",
      "74\n",
      "FizzBuzz\n",
      "76\n",
      "77\n",
      "Fizz\n",
      "79\n",
      "Buzz\n",
      "Fizz\n",
      "82\n",
      "83\n",
      "Fizz\n",
      "Buzz\n",
      "86\n",
      "Fizz\n",
      "88\n",
      "89\n",
      "FizzBuzz\n",
      "91\n",
      "92\n",
      "Fizz\n",
      "94\n",
      "Buzz\n",
      "Fizz\n",
      "97\n",
      "98\n",
      "Fizz\n",
      "Buzz\n"
     ]
    }
   ],
   "source": [
    "# The FizzBuzz game \n",
    "# For Numbers divisible by 3, it will returns Fizz\n",
    "# For Numbers divisible by 5, it will returns Buzz\n",
    "# For Numbers divisible by 3 and 5, it will returns FizzBuzz\n",
    "\n",
    "target = 100\n",
    "for number in range(1, target + 1):\n",
    "    if number % 3 == 0 and number % 5 == 0:\n",
    "        print('FizzBuzz')\n",
    "    elif number % 3 == 0:\n",
    "        print('Fizz')\n",
    "    elif number % 5 == 0:\n",
    "        print('Buzz')\n",
    "    else:\n",
    "        print(number)\n"
   ]
  },
  {
   "cell_type": "markdown",
   "id": "fa5bdaab",
   "metadata": {},
   "source": [
    "### The Days Challenge of PyPassword Generator"
   ]
  },
  {
   "cell_type": "code",
   "execution_count": 1,
   "id": "e608b3b6",
   "metadata": {},
   "outputs": [
    {
     "name": "stdout",
     "output_type": "stream",
     "text": [
      "Welcome to the PyPassword Generator!\n",
      "How many letters would you like in your password? 7\n",
      "How many symbols would you like? 2\n",
      "How many numbers would you like? 3\n",
      "['S', 'T', 'z', 'j', 'w', 'C', 'A', '$', '@', '8', '8', '7']\n",
      "['C', 'j', 'A', 'S', '8', 'T', '$', '@', 'w', 'z', '7', '8']\n",
      "Your Password is: CjAS8T$@wz78\n"
     ]
    }
   ],
   "source": [
    "#Script to generate Password using specific requirement from users like numbers of Strings\n",
    "# Numbers of Numeric cahraters, and Special Characters\n",
    "import string\n",
    "import random\n",
    "\n",
    "print('Welcome to the PyPassword Generator!')\n",
    "\n",
    "alphas_list = list(string.ascii_lowercase)\n",
    "alphac_list = list(string.ascii_uppercase)\n",
    "\n",
    "# Generate a list of all special characters\n",
    "special_characters_list = list(string.punctuation)\n",
    "\n",
    "# List of All characters\n",
    "alpha = alphas_list + alphac_list\n",
    "symbols = special_characters_list\n",
    "numbers = [0, 1, 2, 3, 4, 5, 6, 7, 8, 9]\n",
    "\n",
    "#Take users input \n",
    "\n",
    "letter = int(input('How many letters would you like in your password? '))\n",
    "sym = int(input('How many symbols would you like? '))\n",
    "num = int(input('How many numbers would you like? '))\n",
    "\n",
    "pasw = []\n",
    "\n",
    "for let in range (0, letter):\n",
    "    beta = random.randint(1, len(alpha)-1)\n",
    "    pasw.append(alpha[beta])\n",
    "\n",
    "for let in range (0, sym):\n",
    "    beta = random.randint(1, len(symbols)-1)\n",
    "    pasw.append(symbols[beta])\n",
    "\n",
    "for let in range (0, num):\n",
    "    beta = random.randint(1, len(numbers)-1)\n",
    "    pasw.append(str(numbers[beta]))\n",
    "\n",
    "print(pasw)\n",
    "# Randomly rearrange the list\n",
    "random.shuffle(pasw)\n",
    "print(pasw)\n",
    "\n",
    "password = ''.join(pasw)\n",
    "print(f'Your Password is: {password}')"
   ]
  },
  {
   "cell_type": "code",
   "execution_count": 48,
   "id": "fb56d02d",
   "metadata": {},
   "outputs": [
    {
     "name": "stdout",
     "output_type": "stream",
     "text": [
      "Welcome to the PyPassword Generator!\n",
      "How many letters would you like in your password?\n",
      "6\n",
      "How many symbols would you like?\n",
      "3\n",
      "How many numbers would you like?\n",
      "2\n",
      "['z', 'l', 'o', 's', 'Y', 'd', '#', '$', '&', '2', '1']\n",
      "['l', 'Y', '&', '#', '$', 'z', 'd', 's', '2', '1', 'o']\n",
      "Your password is: lY&#$zds21o\n"
     ]
    }
   ],
   "source": [
    "#Script to generate Password using specific requirement from users like numbers of Strings\n",
    "# Numbers of Numeric cahraters, and Special Characters\n",
    "\n",
    "\n",
    "#Password Generator Project\n",
    "import random\n",
    "letters = ['a', 'b', 'c', 'd', 'e', 'f', 'g', 'h', 'i', 'j', 'k', 'l', 'm', 'n', 'o', 'p', 'q', 'r', 's', 't', 'u', 'v', 'w', 'x', 'y', 'z', 'A', 'B', 'C', 'D', 'E', 'F', 'G', 'H', 'I', 'J', 'K', 'L', 'M', 'N', 'O', 'P', 'Q', 'R', 'S', 'T', 'U', 'V', 'W', 'X', 'Y', 'Z']\n",
    "numbers = ['0', '1', '2', '3', '4', '5', '6', '7', '8', '9']\n",
    "symbols = ['!', '#', '$', '%', '&', '(', ')', '*', '+']\n",
    "\n",
    "print(\"Welcome to the PyPassword Generator!\")\n",
    "nr_letters = int(input(\"How many letters would you like in your password?\\n\")) \n",
    "nr_symbols = int(input(f\"How many symbols would you like?\\n\"))\n",
    "nr_numbers = int(input(f\"How many numbers would you like?\\n\"))\n",
    "\n",
    "#Eazy Level\n",
    "# password = \"\"\n",
    "\n",
    "# for char in range(1, nr_letters + 1):\n",
    "#   password += random.choice(letters)\n",
    "\n",
    "# for char in range(1, nr_symbols + 1):\n",
    "#   password += random.choice(symbols)\n",
    "\n",
    "# for char in range(1, nr_numbers + 1):\n",
    "#   password += random.choice(numbers)\n",
    "\n",
    "# print(password)\n",
    "\n",
    "#Hard Level\n",
    "password_list = []\n",
    "\n",
    "for char in range(1, nr_letters + 1):\n",
    "  password_list.append(random.choice(letters))\n",
    "\n",
    "for char in range(1, nr_symbols + 1):\n",
    "  password_list += random.choice(symbols)\n",
    "\n",
    "for char in range(1, nr_numbers + 1):\n",
    "  password_list += random.choice(numbers)\n",
    "\n",
    "print(password_list)\n",
    "random.shuffle(password_list)\n",
    "print(password_list)\n",
    "\n",
    "password = \"\"\n",
    "for char in password_list:\n",
    "  password += char\n",
    "\n",
    "print(f\"Your password is: {password}\")\n"
   ]
  },
  {
   "cell_type": "code",
   "execution_count": null,
   "id": "dc43ca54",
   "metadata": {},
   "outputs": [],
   "source": []
  }
 ],
 "metadata": {
  "kernelspec": {
   "display_name": "Python 3 (ipykernel)",
   "language": "python",
   "name": "python3"
  },
  "language_info": {
   "codemirror_mode": {
    "name": "ipython",
    "version": 3
   },
   "file_extension": ".py",
   "mimetype": "text/x-python",
   "name": "python",
   "nbconvert_exporter": "python",
   "pygments_lexer": "ipython3",
   "version": "3.11.3"
  }
 },
 "nbformat": 4,
 "nbformat_minor": 5
}
