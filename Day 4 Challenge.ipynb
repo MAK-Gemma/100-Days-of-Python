{
 "cells": [
  {
   "cell_type": "markdown",
   "id": "e5e766f2",
   "metadata": {},
   "source": [
    "# 100 Days Python Challenge"
   ]
  },
  {
   "cell_type": "markdown",
   "id": "84633525",
   "metadata": {},
   "source": [
    "## 🚀 Day 4 of #100DaysOfCode in Python! 🐍\n",
    "\n",
    "### Today's mission: Embrace the power of randomization and conquer Python lists! 🎲📋\n",
    "\n",
    "### 🎮 Activity: Let's build the classic Rock, Paper, Scissors game! 🤘📄✂️\n",
    "\n",
    "#### Challenge: Code your own version, share snippets, and let's play virtually! 🚀💻\n",
    "\n",
    "Who's up for some coding fun and a game of strategy? 🙌 #Python #CodingChallenge #Day4 #Randomization #RockPaperScissors"
   ]
  },
  {
   "cell_type": "markdown",
   "id": "dfb1da3a",
   "metadata": {},
   "source": [
    "#### Warming up with the Random Head - Tail coin flip"
   ]
  },
  {
   "cell_type": "code",
   "execution_count": 3,
   "id": "caaf6abf",
   "metadata": {},
   "outputs": [
    {
     "name": "stdout",
     "output_type": "stream",
     "text": [
      "Welcome to the Head or Tail coin flip\n",
      "What is your guess? (H or T)t\n",
      "Opss, The Outcome is Head, Try again\n",
      "What is your guess? (H or T)h\n",
      "Opss, The Outcome is Tail, Try again\n",
      "What is your guess? (H or T)t\n",
      "Great, the Outcome is Tail\n"
     ]
    }
   ],
   "source": [
    "# Head or Tail Script \n",
    "\n",
    "# Hint: Remember to import the random module first. 🎲\n",
    "\n",
    "#Welcoming notes\n",
    "print('Welcome to the Head or Tail coin flip')\n",
    "import random\n",
    "\n",
    "#Request the player to guess the Head or Tail\n",
    "\n",
    "i = 0\n",
    "\n",
    "while i < 5:\n",
    "    x = input('What is your guess? (H or T)').lower()\n",
    "    a= random.randint(0,1)\n",
    "    if a == 0:\n",
    "        outcome = 't'\n",
    "        if x == outcome:\n",
    "            print('Great, the Outcome is Tail')\n",
    "            break\n",
    "        else:\n",
    "            print('Opss, The Outcome is Tail, Try again')\n",
    "    else:\n",
    "        outcome = 'h'\n",
    "        if x == outcome:\n",
    "            print('Great, the Outcome is Head')\n",
    "            break\n",
    "        else:\n",
    "            print('Opss, The Outcome is Head, Try again')\n",
    "    i +=1"
   ]
  },
  {
   "cell_type": "markdown",
   "id": "d5ef716b",
   "metadata": {},
   "source": [
    "### Selecting a Random Name from a List to Pay the Bill"
   ]
  },
  {
   "cell_type": "code",
   "execution_count": 11,
   "id": "2538c82b",
   "metadata": {},
   "outputs": [
    {
     "name": "stdout",
     "output_type": "stream",
     "text": [
      "Welcome to the Random selection task\n",
      "Enter the Names of individual in the group separated with \",\": Weah, Boakai, Bako, Barry, Hinnel, Soma\n",
      "--------------\n",
      "The Bill will be paid by  Boakai.\n"
     ]
    }
   ],
   "source": [
    "#Bill payment for group shopping by a random selection from the group\n",
    "\n",
    "print('Welcome to the Random selection task')\n",
    "\n",
    "#Get the name of those in the group\n",
    "Names = input('Enter the Names of individual in the group separated with \",\": ')\n",
    "name = Names.split(',')\n",
    "\n",
    "paid = (random.randint(0, len(name) - 1))\n",
    "Person = name[paid]\n",
    "print ('--------------')\n",
    "#print(len(name))\n",
    "print(f'The Bill will be paid by {Person}.')"
   ]
  },
  {
   "cell_type": "markdown",
   "id": "6847c7ac",
   "metadata": {},
   "source": [
    "### Script to Locate a Position from a Map"
   ]
  },
  {
   "cell_type": "code",
   "execution_count": 28,
   "id": "b82c6ed5",
   "metadata": {},
   "outputs": [
    {
     "name": "stdout",
     "output_type": "stream",
     "text": [
      "['M', 'N', 'P']\n",
      "['W', 'E', 'R']\n",
      "['A', 'S', 'D']\n",
      "What is the Location of the Treasure? (A9 format) b3\n",
      "R\n"
     ]
    }
   ],
   "source": [
    "#Create the List to represent each row\n",
    "\n",
    "row1 = ['M', 'N', 'P']\n",
    "row2 = ['W', 'E', 'R']\n",
    "row3 = ['A', 'S', 'D']\n",
    "\n",
    "row = [row1, row2, row3]\n",
    "\n",
    "print(f'{row1}\\n{row2}\\n{row3}')\n",
    "\n",
    "a = list(input('What is the Location of the Treasure? (A9 format) '))\n",
    "x = a[0].lower()\n",
    "y = int(a[1]) - 1\n",
    "if x == 'a':\n",
    "    d = 0\n",
    "elif x == 'b':\n",
    "    d = 1\n",
    "else:\n",
    "    d = 2\n",
    "\n",
    "print(row[d][y])"
   ]
  },
  {
   "cell_type": "code",
   "execution_count": 32,
   "id": "ccb7d037",
   "metadata": {},
   "outputs": [
    {
     "name": "stdout",
     "output_type": "stream",
     "text": [
      "Hiding your treasure! X marks the spot.\n",
      "c2\n",
      "['⬜️', '️⬜️', '️⬜️']\n",
      "['⬜️', '⬜️', 'X']\n",
      "['⬜️️', '⬜️️', '⬜️️']\n"
     ]
    }
   ],
   "source": [
    "line1 = [\"⬜️\",\"️⬜️\",\"️⬜️\"]\n",
    "line2 = [\"⬜️\",\"⬜️\",\"️⬜️\"]\n",
    "line3 = [\"⬜️️\",\"⬜️️\",\"⬜️️\"]\n",
    "map = [line1, line2, line3]\n",
    "print(\"Hiding your treasure! X marks the spot.\")\n",
    "position = input() # Where do you want to put the treasure?\n",
    "# 🚨 Don't change the code above 👆\n",
    "# Write your code below this row 👇\n",
    "\n",
    "\n",
    "# Write your code above this row 👆\n",
    "# 🚨 Don't change the code below 👇\n",
    "\n",
    "position=list(position)\n",
    "x = position[0].lower()\n",
    "y = int(position[1]) - 1\n",
    "\n",
    "if y == 0:\n",
    "  d = line1\n",
    "elif y == 1:\n",
    "  d = line2\n",
    "else:\n",
    "  d = line3\n",
    "\n",
    "if x == 'a':\n",
    "  e = 0\n",
    "elif x == 'b':\n",
    "  e = 1\n",
    "else:\n",
    "  e = 2\n",
    "d[e] = 'X'\n",
    "\n",
    "if y == 0:\n",
    "  line1 = d\n",
    "elif y == 1:\n",
    "  line2 = d\n",
    "else:\n",
    "  line3 = d\n",
    "print(f\"{line1}\\n{line2}\\n{line3}\")"
   ]
  },
  {
   "cell_type": "code",
   "execution_count": 30,
   "id": "ee3324d9",
   "metadata": {},
   "outputs": [
    {
     "name": "stdout",
     "output_type": "stream",
     "text": [
      "Hiding your treasure! X marks the spot.\n",
      "b3\n",
      "['⬜️', '️⬜️', '️⬜️']\n",
      "['⬜️', '⬜️', '️⬜️']\n",
      "['⬜️️', 'X', '⬜️️']\n"
     ]
    }
   ],
   "source": [
    "line1 = [\"⬜️\",\"️⬜️\",\"️⬜️\"]\n",
    "line2 = [\"⬜️\",\"⬜️\",\"️⬜️\"]\n",
    "line3 = [\"⬜️️\",\"⬜️️\",\"⬜️️\"]\n",
    "map = [line1, line2, line3]\n",
    "print(\"Hiding your treasure! X marks the spot.\")\n",
    "position = input() # Where do you want to put the treasure?\n",
    "# 🚨 Don't change the code above 👆\n",
    "# Write your code below this row 👇\n",
    "letter = position[0].lower()\n",
    "abc = ['a', 'b', 'c']\n",
    "letter_index = abc.index(letter)\n",
    "number_index = int(position[1]) - 1\n",
    "map[number_index][letter_index]= 'X'\n",
    "\n",
    "# Write your code above this row 👆\n",
    "# 🚨 Don't change the code below 👇\n",
    "print(f\"{line1}\\n{line2}\\n{line3}\")"
   ]
  },
  {
   "cell_type": "markdown",
   "id": "d717cef7",
   "metadata": {},
   "source": [
    "#### The Rock, Paper, Scisors Game with Computer"
   ]
  },
  {
   "cell_type": "code",
   "execution_count": 55,
   "id": "d8234688",
   "metadata": {},
   "outputs": [
    {
     "name": "stdout",
     "output_type": "stream",
     "text": [
      "What do you choose? Type 0 for Rock, 1 for Paper or 2 for Scissors.\n",
      "1\n",
      "You choose: \n",
      "    _______\n",
      "---'   ____)____\n",
      "          ______)\n",
      "          _______)\n",
      "         _______)\n",
      "---.__________)\n",
      " .\n",
      "Computer Chooses: \n",
      "    _______\n",
      "---'   ____)\n",
      "      (_____)\n",
      "      (_____)\n",
      "      (____)\n",
      "---.__(___)\n",
      "\n",
      "You Win\n"
     ]
    }
   ],
   "source": [
    "import random\n",
    "\n",
    "rock = '''\n",
    "    _______\n",
    "---'   ____)\n",
    "      (_____)\n",
    "      (_____)\n",
    "      (____)\n",
    "---.__(___)\n",
    "'''\n",
    "\n",
    "paper = '''\n",
    "    _______\n",
    "---'   ____)____\n",
    "          ______)\n",
    "          _______)\n",
    "         _______)\n",
    "---.__________)\n",
    "'''\n",
    "\n",
    "scissors = '''\n",
    "    _______\n",
    "---'   ____)____\n",
    "          ______)\n",
    "       __________)\n",
    "      (____)\n",
    "---.__(___)\n",
    "'''\n",
    "\n",
    "game_images = [rock, paper, scissors]\n",
    "\n",
    "user = int(input(\"What do you choose? Type 0 for Rock, 1 for Paper or 2 for Scissors.\\n\"))\n",
    "if user == 0:\n",
    "    selection = rock\n",
    "elif user ==1:\n",
    "    selection = paper\n",
    "elif user == 2:\n",
    "    selection = scissors\n",
    "else:\n",
    "    selection = 'Invalid'\n",
    "\n",
    "computer = game_images[random.randint(0,2)]\n",
    "\n",
    "print(f'You choose: {selection} .')\n",
    "print(f'Computer Chooses: {computer}')\n",
    "\n",
    "\n",
    "if selection == 'Invalid' or user_choice < 0:\n",
    "    print(\"You typed an invalid number, you lose!\") \n",
    "elif selection == rock and computer == paper:\n",
    "    print('You lose')\n",
    "elif selection == scissors and computer == paper:\n",
    "    print('You Win')\n",
    "elif selection == paper and computer == scissors:\n",
    "    print('You Lose')\n",
    "elif selection == rock and computer == scissors:\n",
    "    print('You win')\n",
    "elif selection == scissors and computer == rock:\n",
    "    print('You Lose')\n",
    "elif selection == paper and computer == rock:\n",
    "    print('You Win')\n",
    "else:\n",
    "    print('Its a Tie (Draw Game)')\n",
    "\n"
   ]
  },
  {
   "cell_type": "code",
   "execution_count": null,
   "id": "1b26bfcb",
   "metadata": {},
   "outputs": [],
   "source": []
  },
  {
   "cell_type": "code",
   "execution_count": null,
   "id": "ba462c67",
   "metadata": {},
   "outputs": [],
   "source": []
  }
 ],
 "metadata": {
  "kernelspec": {
   "display_name": "Python 3 (ipykernel)",
   "language": "python",
   "name": "python3"
  },
  "language_info": {
   "codemirror_mode": {
    "name": "ipython",
    "version": 3
   },
   "file_extension": ".py",
   "mimetype": "text/x-python",
   "name": "python",
   "nbconvert_exporter": "python",
   "pygments_lexer": "ipython3",
   "version": "3.11.3"
  }
 },
 "nbformat": 4,
 "nbformat_minor": 5
}
