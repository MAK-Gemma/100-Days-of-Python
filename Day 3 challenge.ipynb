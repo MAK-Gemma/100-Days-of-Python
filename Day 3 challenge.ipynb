{
 "cells": [
  {
   "cell_type": "markdown",
   "id": "8b546e32",
   "metadata": {},
   "source": [
    "# 100 Days Python Challenge"
   ]
  },
  {
   "cell_type": "markdown",
   "id": "096464e3",
   "metadata": {},
   "source": [
    "## 🚀 Day 3 of #100DaysOfCode in Python! 🐍\n",
    "\n",
    "### Today's coding adventure: Mastering Control Flow and Logical Operators! 🤖🔀\n",
    "\n",
    "#### 💡 Dive into conditional statements, loops, and logical operators to navigate code 💻✨\n",
    "\n",
    "Challenge: Build a Python program that showcases control flow.🚀\n",
    "\n",
    "💪 #Python #CodingChallenge #Day3 #ControlFlow #LogicalOperators"
   ]
  },
  {
   "cell_type": "code",
   "execution_count": 7,
   "id": "d5a417af",
   "metadata": {},
   "outputs": [
    {
     "name": "stdout",
     "output_type": "stream",
     "text": [
      "Welcome to the Roller Coaster Height Screening\n",
      "Enter Your Height (cm) here? 121\n",
      "You can proceed and Enjoy the Ride\n"
     ]
    }
   ],
   "source": [
    "#Roller Coaster Height Screening script\n",
    "\n",
    "#Welcoming notes\n",
    "print('Welcome to the Roller Coaster Height Screening')\n",
    "\n",
    "#Request the Height of the person\n",
    "height = int(input('Enter Your Height (cm) here? '))\n",
    "\n",
    "#Check if the height satisfied the minimum requirement of 120cm\n",
    "if height >= 120:\n",
    "    print('You can proceed and Enjoy the Ride')\n",
    "else:\n",
    "    print('Sorry, You can not be allowed on the ride due to height restriction')\n",
    "\n"
   ]
  },
  {
   "cell_type": "markdown",
   "id": "746017bc",
   "metadata": {},
   "source": [
    "#### Test for Even or Odd Number"
   ]
  },
  {
   "cell_type": "code",
   "execution_count": 2,
   "id": "8240d7b6",
   "metadata": {},
   "outputs": [
    {
     "name": "stdout",
     "output_type": "stream",
     "text": [
      "Welcome to Even OR Odd number determinant script\n",
      "Enter a number to classify? 76\n",
      "The number 76 is an Even number\n"
     ]
    }
   ],
   "source": [
    "#Write a program to check either a number is even or odd\n",
    "\n",
    "#Welcome notes\n",
    "print('Welcome to Even OR Odd number determinant script')\n",
    "\n",
    "#Request the number\n",
    "num = int(input('Enter a number to classify? '))\n",
    "\n",
    "#Check and report the classification\n",
    "if num % 2 == 0:\n",
    "    print(f'The number {num} is an Even number')\n",
    "else:\n",
    "    print(f'The number {num} is a Odd number')"
   ]
  },
  {
   "cell_type": "markdown",
   "id": "5cdcd39d",
   "metadata": {},
   "source": [
    "#### Using the Nexted IF ELSE statement to evaluate two variables "
   ]
  },
  {
   "cell_type": "code",
   "execution_count": 6,
   "id": "00456dde",
   "metadata": {},
   "outputs": [
    {
     "name": "stdout",
     "output_type": "stream",
     "text": [
      "Welcome to the Roller Coaster Price determination\n",
      "Enter Your Height (cm) here? 117\n",
      "Enter Your Age (years)? 32\n",
      "Sorry, You can not be allowed on the ride due to height restriction\n"
     ]
    }
   ],
   "source": [
    "#Roller Coaster Height and age Screening for price determination script\n",
    "\n",
    "#Welcoming notes\n",
    "print('Welcome to the Roller Coaster Price determination')\n",
    "\n",
    "#Request the Height of the person\n",
    "height = int(input('Enter Your Height (cm) here? '))\n",
    " \n",
    "\n",
    "#Check if the height satisfied the minimum requirement of 120cm and Ticket price\n",
    "if height >= 120:\n",
    "    Age = int(input('Enter Your Age (years)? '))\n",
    "    if Age > 19:\n",
    "        print('The Adult ticket price is $12')\n",
    "    elif Age <= 18 and Age > 12:\n",
    "        print('The Teen ticket price is $7')\n",
    "    else:\n",
    "        print('The child ticket price is $5')\n",
    "    \n",
    "    print('You can proceed and Enjoy the Ride')\n",
    "else:\n",
    "    print('Sorry, You can not be allowed on the ride due to height restriction')\n",
    "\n"
   ]
  },
  {
   "cell_type": "markdown",
   "id": "8e59ac39",
   "metadata": {},
   "source": [
    "#### BMI Calculator based on BMI value"
   ]
  },
  {
   "cell_type": "markdown",
   "id": "431293e9",
   "metadata": {},
   "source": [
    "##### Script should tell the Interpretation of BMI based on the BMI value\n",
    "- Under 18.5 they are Underweight\n",
    "- Over 18.5 but below 25 they are a Normal Weight\n",
    "- Over 25 byt below 30 they are Overweight\n",
    "- Over 30 but bellow 35 they are Obese\n",
    "- Over 35 they are clinically Obese"
   ]
  },
  {
   "cell_type": "code",
   "execution_count": 3,
   "id": "491773c1",
   "metadata": {},
   "outputs": [
    {
     "name": "stdout",
     "output_type": "stream",
     "text": [
      "Welcome to the BMI evalutor script\n",
      "Enter your Height (meters) here? 1.82\n",
      "Enter your Weight (kg) here? 98\n",
      "Your BMI is 29.59, you are slightly overweight.\n"
     ]
    }
   ],
   "source": [
    "#Script to check the BMI rating \n",
    "\n",
    "#Welcome notes\n",
    "print('Welcome to the BMI evalutor script')\n",
    "\n",
    "#Request the Height (m) and weight (kg)\n",
    "height = float(input('Enter your Height (meters) here? '))\n",
    "weight = float(input('Enter your Weight (kg) here? '))\n",
    "\n",
    "#Calculate the BMI\n",
    "\n",
    "BMI = float('{:.2f}'.format(weight/(height**2)))\n",
    "\n",
    "if BMI < 18.5:\n",
    "    print(f'Your BMI is {BMI}, you are Underweight.')\n",
    "elif BMI > 18.5 and BMI < 25:\n",
    "    print(f'Your BMI is {BMI}, you have a normal weight.')\n",
    "elif BMI >= 25 and BMI < 30:\n",
    "    print(f'Your BMI is {BMI}, you are slightly overweight.')\n",
    "elif BMI > 30 and  BMI < 35:\n",
    "    print(f'Your BMI is {BMI}, you are obese.')\n",
    "else:\n",
    "    print(f'Your BMI is {BMI}, you are Clinically Obese.')\n"
   ]
  },
  {
   "cell_type": "markdown",
   "id": "2e3f26b8",
   "metadata": {},
   "source": [
    "### Determining a Leap Year"
   ]
  },
  {
   "cell_type": "markdown",
   "id": "a8e538c5",
   "metadata": {},
   "source": [
    "##### Rules for determining if a year is a leap year\n",
    "- To be a leap year, the year number must be divisible by four \n",
    "- except for end-of-century years, which must be divisible by 400"
   ]
  },
  {
   "cell_type": "code",
   "execution_count": 25,
   "id": "d24b1f98",
   "metadata": {},
   "outputs": [
    {
     "name": "stdout",
     "output_type": "stream",
     "text": [
      "Welcome to the Leap Year Determinant script\n",
      "Enter Year? 1900\n",
      " Ther Year 1900, is Not a Leap Year\n"
     ]
    }
   ],
   "source": [
    "#Script to check for Leap Year\n",
    "\n",
    "#Welcome notes\n",
    "print('Welcome to the Leap Year Determinant script')\n",
    "\n",
    "#Request the Year for assessment\n",
    "year = int(input('Enter Year? '))\n",
    "\n",
    "#Check if it is a Leap Year\n",
    "if year % 4 == 0 and year % 100 != 0:\n",
    "    print(f' Ther Year {year}, is a Leap Year')\n",
    "elif year % 100 == 0 and year % 400 == 0:\n",
    "    print(f' Ther Year {year}, is a Leap Year')\n",
    "else:\n",
    "    print(f' Ther Year {year}, is Not a Leap Year')\n"
   ]
  },
  {
   "cell_type": "code",
   "execution_count": 28,
   "id": "3cc8ffc9",
   "metadata": {},
   "outputs": [
    {
     "name": "stdout",
     "output_type": "stream",
     "text": [
      "Welcome to the Leap Year Determinant script\n",
      "Enter Year? 1500\n",
      " Ther Year 1500, is Not a Leap Year\n"
     ]
    }
   ],
   "source": [
    "#Script to check for Leap Year\n",
    "\n",
    "#Welcome notes\n",
    "print('Welcome to the Leap Year Determinant script')\n",
    "\n",
    "#Request the Year for assessment\n",
    "year = int(input('Enter Year? '))\n",
    "\n",
    "#Check if it is a Leap Year\n",
    "if year % 4 == 0:\n",
    "    if year % 100 == 0:\n",
    "        if year % 400 == 0:\n",
    "            print (f' Ther Year {year}, is a Leap Year')\n",
    "        else:\n",
    "            print (f' Ther Year {year}, is Not a Leap Year')\n",
    "    else:\n",
    "        print (f' Ther Year {year}, is a Leap Year')\n",
    "else:\n",
    "    print (f' Ther Year {year}, is a Not Leap Year')"
   ]
  },
  {
   "cell_type": "markdown",
   "id": "98b7f48a",
   "metadata": {},
   "source": [
    "#### Multiple Conditional Statement"
   ]
  },
  {
   "cell_type": "code",
   "execution_count": 32,
   "id": "5515bf0d",
   "metadata": {},
   "outputs": [
    {
     "name": "stdout",
     "output_type": "stream",
     "text": [
      "Welcome to the Roller Coaster Price determination\n",
      "Enter Your Height (cm) here? 175\n",
      "Enter Your Age (years)? 15\n",
      "The Teen ticket price is $7\n",
      "Do you want a picture (Y/N)N\n",
      "No Photo is selected\n",
      "Your Total Cost is $7, and you can proceed to Enjoy the Ride\n"
     ]
    }
   ],
   "source": [
    "#Roller Coaster Height and age Screening for price determination and checking for inclusion of photograph booking script\n",
    "\n",
    "#Welcoming notes\n",
    "print('Welcome to the Roller Coaster Price determination')\n",
    "\n",
    "#Request the Height of the person\n",
    "height = int(input('Enter Your Height (cm) here? '))\n",
    " \n",
    "\n",
    "#Check if the height satisfied the minimum requirement of 120cm and Ticket price\n",
    "if height >= 120:\n",
    "    Age = int(input('Enter Your Age (years)? '))\n",
    "    if Age > 19:\n",
    "        ticket = 12\n",
    "        print(f'The Adult ticket price is ${ticket}')\n",
    "    elif Age <= 18 and Age > 12:\n",
    "        ticket = 7\n",
    "        print(f'The Teen ticket price is ${ticket}')\n",
    "    else:\n",
    "        ticket = 5\n",
    "        print(f'The child ticket price is ${ticket}')\n",
    "    photo = input('Do you want a photo taken? (Y/N)')\n",
    "    if photo == 'Y':\n",
    "        print('Photo cost is $4')\n",
    "        ticket += 4\n",
    "    else:\n",
    "        print ('No Photo is selected')\n",
    "    print(f'Your Total Cost is ${ticket}, and you can proceed to Enjoy the Ride')\n",
    "else:\n",
    "    print('Sorry, You can not be allowed on the ride due to height restriction')\n",
    "\n"
   ]
  },
  {
   "cell_type": "markdown",
   "id": "1e4ef538",
   "metadata": {},
   "source": [
    "#### Multiple conditional statement for Customer Pizza Order processing"
   ]
  },
  {
   "cell_type": "code",
   "execution_count": 1,
   "id": "1ac3f20c",
   "metadata": {},
   "outputs": [
    {
     "name": "stdout",
     "output_type": "stream",
     "text": [
      "Welcome to Pizza Ordering System\n",
      "Please select the size of the pizza\n",
      "S, M, L: L\n",
      "Please select Option for pepperoni\n",
      "Y, N: Y\n",
      "Please select Option for extra cheese\n",
      "Y, N: Y\n",
      "Your final bill is: $29\n"
     ]
    }
   ],
   "source": [
    "#Pizza Ordering system\n",
    "\n",
    "print(\"Welcome to Pizza Ordering System\")\n",
    "print(\"Please select the size of the pizza\")\n",
    "pizza_size = input(\"S, M, L: \")\n",
    "print(\"Please select Option for pepperoni\")\n",
    "pepperoni = input(\"Y, N: \")\n",
    "print(\"Please select Option for extra cheese\")\n",
    "extra_cheese = input(\"Y, N: \")\n",
    "bill = 0\n",
    "if pizza_size == \"S\":\n",
    "  bill += 15\n",
    "elif pizza_size == \"M\":\n",
    "  bill += 20\n",
    "elif pizza_size == \"L\":\n",
    "  bill += 25\n",
    "if pepperoni == \"Y\":\n",
    "  if pizza_size == \"S\":\n",
    "    bill += 2\n",
    "  else:\n",
    "    bill += 3\n",
    "if extra_cheese == \"Y\":\n",
    "  bill += 1\n",
    "print(f\"Your final bill is: ${bill}\")"
   ]
  },
  {
   "cell_type": "markdown",
   "id": "3b299e69",
   "metadata": {},
   "source": [
    "#### Data type manipulation in control flow and logical operations"
   ]
  },
  {
   "cell_type": "code",
   "execution_count": 2,
   "id": "7608e545",
   "metadata": {},
   "outputs": [
    {
     "name": "stdout",
     "output_type": "stream",
     "text": [
      "Welcome to love calculator\n",
      "What is your name? \n",
      "Kanye West\n",
      "What is their name? \n",
      "Kim Kardashian\n",
      "Your love score is 42, you are alright together.\n"
     ]
    }
   ],
   "source": [
    "#True Love Calculator from processing the name or partners\n",
    "\n",
    "print(\"Welcome to love calculator\")\n",
    "name1 = input(\"What is your name? \\n\")\n",
    "name2 = input(\"What is their name? \\n\")\n",
    "combined_string = name1 + name2\n",
    "lower_case_string = combined_string.lower()\n",
    "\n",
    "t = lower_case_string.count(\"t\")\n",
    "r = lower_case_string.count(\"r\")\n",
    "u = lower_case_string.count(\"u\")\n",
    "e = lower_case_string.count(\"e\")\n",
    "true = t + r + u + e\n",
    "\n",
    "l = lower_case_string.count(\"l\")\n",
    "o = lower_case_string.count(\"o\")\n",
    "v = lower_case_string.count(\"v\")\n",
    "e = lower_case_string.count(\"e\")\n",
    "love = l + o + v + e\n",
    "\n",
    "love_score = int(str(true) + str(love))\n",
    "\n",
    "if (love_score < 10) or (love_score > 90):\n",
    "  print(f\"Your love score is {love_score}, you go together like coke and mentos.\")\n",
    "elif (love_score >= 40) and (love_score <= 50):\n",
    "  print(f\"Your love score is {love_score}, you are alright together.\")\n",
    "else:\n",
    "  print(f\"Your love score is {love_score}.\")\n",
    "\n"
   ]
  },
  {
   "cell_type": "code",
   "execution_count": null,
   "id": "cb7b81c3",
   "metadata": {},
   "outputs": [],
   "source": []
  }
 ],
 "metadata": {
  "kernelspec": {
   "display_name": "Python 3 (ipykernel)",
   "language": "python",
   "name": "python3"
  },
  "language_info": {
   "codemirror_mode": {
    "name": "ipython",
    "version": 3
   },
   "file_extension": ".py",
   "mimetype": "text/x-python",
   "name": "python",
   "nbconvert_exporter": "python",
   "pygments_lexer": "ipython3",
   "version": "3.11.3"
  }
 },
 "nbformat": 4,
 "nbformat_minor": 5
}
